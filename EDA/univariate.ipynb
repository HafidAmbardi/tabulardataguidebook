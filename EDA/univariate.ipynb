{
 "cells": [
  {
   "cell_type": "code",
   "execution_count": null,
   "metadata": {
    "vscode": {
     "languageId": "plaintext"
    }
   },
   "outputs": [],
   "source": [
    "df_numeric = data2.select_dtypes(include=['float64', 'int64'])\n",
    "\n",
    "# Standardize the data with z-score\n",
    "df_numeric = df_numeric.apply(zscore)\n",
    "\n",
    "# Determine the number of rows and columns for the subplot grid\n",
    "n = len(df_numeric.columns)\n",
    "ncols = int(np.ceil(np.sqrt(n)))\n",
    "nrows = int(np.ceil(n / ncols))\n",
    "\n",
    "fig, axes = plt.subplots(nrows, ncols, figsize=(ncols*3, nrows*3))\n",
    "\n",
    "# Flatten the 2D array to 1D array of axes\n",
    "axes = axes.ravel()\n",
    "\n",
    "for i, column in enumerate(df_numeric):\n",
    "    df_numeric.boxplot(column, ax=axes[i])\n",
    "\n",
    "# Remove empty subplots\n",
    "if n < nrows*ncols:\n",
    "    for j in range(i+1, nrows*ncols):\n",
    "        fig.delaxes(axes[j])\n",
    "\n",
    "plt.tight_layout()\n",
    "plt.show()"
   ]
  },
  {
   "cell_type": "code",
   "execution_count": null,
   "metadata": {
    "vscode": {
     "languageId": "plaintext"
    }
   },
   "outputs": [],
   "source": [
    "\n",
    "# Standardize the data with z-score\n",
    "df_numeric = df_numeric.apply(zscore)\n",
    "\n",
    "# Determine the number of rows and columns for the subplot grid\n",
    "n = len(df_numeric.columns)\n",
    "ncols = int(np.ceil(np.sqrt(n)))\n",
    "nrows = int(np.ceil(n / ncols))\n",
    "\n",
    "fig, axes = plt.subplots(nrows, ncols, figsize=(ncols*3, nrows*3))\n",
    "\n",
    "# Flatten the 2D array to 1D array of axes\n",
    "axes = axes.ravel()\n",
    "\n",
    "for i, column in enumerate(df_numeric):\n",
    "    df_numeric.boxplot(column, ax=axes[i])\n",
    "\n",
    "# Remove empty subplots\n",
    "if n < nrows*ncols:\n",
    "    for j in range(i+1, nrows*ncols):\n",
    "        fig.delaxes(axes[j])\n",
    "\n",
    "plt.tight_layout()\n",
    "plt.show()"
   ]
  }
 ],
 "metadata": {
  "language_info": {
   "name": "python"
  }
 },
 "nbformat": 4,
 "nbformat_minor": 2
}
