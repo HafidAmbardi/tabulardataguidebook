{
 "cells": [
  {
   "cell_type": "markdown",
   "metadata": {},
   "source": [
    "# Ignore Warnings\n",
    "**Use Case:** \\\n",
    "Hides all warnings.\n",
    "\n",
    "**Notes:** \\\n",
    "Use this as a last resort."
   ]
  },
  {
   "cell_type": "code",
   "execution_count": null,
   "metadata": {},
   "outputs": [],
   "source": [
    "import warnings\n",
    "warnings.filterwarnings(\"ignore\")"
   ]
  },
  {
   "cell_type": "markdown",
   "metadata": {},
   "source": [
    "# Show more dataframe data\n",
    "**Use Case:** \\\n",
    "Allows you to adjust the cropping of dataframe information\n",
    "\n",
    "**Code Logic:**\n",
    "* `max_rows` adjusts maximum rows that can be displayed\n",
    "* `max_columns` adjusts maximum columns that can be displayed\n",
    "* `max_colwidth` allows you to adjust the amount of information a cell can have before it is cropped\n",
    "\n",
    "**Notes:** \\\n",
    "`None` can be used to remove the display limit"
   ]
  },
  {
   "cell_type": "code",
   "execution_count": null,
   "metadata": {},
   "outputs": [],
   "source": [
    "import pandas as pd\n",
    "pd.set_option('display.max_rows', 500)\n",
    "pd.set_option('display.max_columns', 500)\n",
    "pd.options.display.max_colwidth = 300"
   ]
  }
 ],
 "metadata": {
  "language_info": {
   "name": "python"
  }
 },
 "nbformat": 4,
 "nbformat_minor": 2
}
